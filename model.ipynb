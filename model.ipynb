{
 "cells": [
  {
   "cell_type": "code",
   "execution_count": 121,
   "metadata": {},
   "outputs": [],
   "source": [
    "import glob\n",
    "import cv2\n",
    "import numpy as np\n",
    "import sys\n",
    "np.set_printoptions(threshold=sys.maxsize)\n",
    "np.set_printoptions(linewidth=np.inf)\n",
    "import os\n",
    "import tensorflow as tf\n",
    "from tensorflow.keras import layers, models"
   ]
  },
  {
   "cell_type": "markdown",
   "metadata": {},
   "source": [
    "# Binary Masks"
   ]
  },
  {
   "cell_type": "code",
   "execution_count": 58,
   "metadata": {},
   "outputs": [],
   "source": [
    "images = glob.glob(\"./font/*/*/*.png\"); # array of image file paths (features)\n",
    "\n",
    "for file in images:\n",
    "    # loading image as a grayscale\n",
    "    image = cv2.imread(file,  cv2.IMREAD_GRAYSCALE);\n",
    "    normalized_image = image / 255.0 # normalizing\n",
    "\n",
    "    # handwriting extraction and obtaining a binary mask\n",
    "    _, binary_mask = cv2.threshold(normalized_image, 0.7, 1, cv2.THRESH_BINARY_INV)\n",
    "    binary_mask_path = f'{file[0:-4]}_binary_mask.png';\n",
    "    #print(binary_mask_path)\n",
    "    if not cv2.imwrite(binary_mask_path, (binary_mask * 255).astype(np.uint8)):\n",
    "        raise Exception(\"Could not write image\")\n"
   ]
  },
  {
   "cell_type": "code",
   "execution_count": 97,
   "metadata": {},
   "outputs": [],
   "source": [
    "binary_masks = glob.glob(\"./font/*/*/*_binary_mask.png\");"
   ]
  },
  {
   "cell_type": "code",
   "execution_count": 115,
   "metadata": {},
   "outputs": [],
   "source": [
    "# Function to load and preprocess images\n",
    "def load_and_preprocess_image(image_path):\n",
    "    # Load the image\n",
    "    image = tf.io.read_file(image_path)\n",
    "    image = tf.image.decode_png(image, channels=1)\n",
    "    image = float(image) / 255.0\n",
    "    return image\n",
    "\n",
    "# Function to load and preprocess binary masks\n",
    "def load_and_preprocess_mask(mask_path):\n",
    "    # Load the binary mask\n",
    "    mask = tf.io.read_file(mask_path)\n",
    "    mask = tf.image.decode_png(mask, channels=1)\n",
    "    return mask"
   ]
  },
  {
   "cell_type": "code",
   "execution_count": 118,
   "metadata": {},
   "outputs": [
    {
     "name": "stdout",
     "output_type": "stream",
     "text": [
      "Image shape: (234, 234, 1)\n",
      "Mask shape: (234, 234, 1)\n",
      "Image shape: (234, 234, 1)\n",
      "Mask shape: (234, 234, 1)\n",
      "Image shape: (234, 234, 1)\n",
      "Mask shape: (234, 234, 1)\n"
     ]
    },
    {
     "name": "stderr",
     "output_type": "stream",
     "text": [
      "2024-01-22 16:39:18.807231: I tensorflow/core/common_runtime/executor.cc:1197] [/device:CPU:0] (DEBUG INFO) Executor start aborting (this does not indicate an error and you can ignore this message): INVALID_ARGUMENT: You must feed a value for placeholder tensor 'Placeholder/_3' with dtype string and shape [2053]\n",
      "\t [[{{node Placeholder/_3}}]]\n"
     ]
    }
   ],
   "source": [
    "image_dataset = tf.data.Dataset.from_tensor_slices(images);\n",
    "mask_dataset = tf.data.Dataset.from_tensor_slices(binary_masks);\n",
    "\n",
    "# Apply the preprocessing functions to the datasets\n",
    "image_dataset = image_dataset.map(load_and_preprocess_image)\n",
    "mask_dataset = mask_dataset.map(load_and_preprocess_mask)\n",
    "\n",
    "combined_dataset = tf.data.Dataset.zip((image_dataset, mask_dataset))\n",
    "\n",
    "# Print the first few elements of the combined dataset\n",
    "for image, mask in combined_dataset.take(3):\n",
    "    print(\"Image shape:\", image.shape)\n",
    "    print(\"Mask shape:\", mask.shape)"
   ]
  }
 ],
 "metadata": {
  "kernelspec": {
   "display_name": "handwriting-bot",
   "language": "python",
   "name": "python3"
  },
  "language_info": {
   "codemirror_mode": {
    "name": "ipython",
    "version": 3
   },
   "file_extension": ".py",
   "mimetype": "text/x-python",
   "name": "python",
   "nbconvert_exporter": "python",
   "pygments_lexer": "ipython3",
   "version": "3.10.13"
  }
 },
 "nbformat": 4,
 "nbformat_minor": 2
}
