{
 "cells": [
  {
   "cell_type": "code",
   "execution_count": 29,
   "metadata": {},
   "outputs": [],
   "source": [
    "import tensorflow as tf\n",
    "from sklearn.model_selection import train_test_split\n",
    "import glob\n",
    "import numpy as np"
   ]
  },
  {
   "cell_type": "code",
   "execution_count": 23,
   "metadata": {},
   "outputs": [],
   "source": [
    "y = ['0','1','2','3','4','5','6','7','8','9','A','a','B','b','C','c','D','d','E','e','F','f','G','g','H','h','I','i','J','j','K','k','L','l','M','m','N','n','O','o','P','p','Q','q','R','r','S','s','T','t','U','u','V','v','W','w','X','x','Y','y','Z','z']; # labels\n",
    "X = glob.glob(\"./font/*/*/*.png\"); # array of image file paths (features)"
   ]
  },
  {
   "cell_type": "code",
   "execution_count": 25,
   "metadata": {},
   "outputs": [],
   "source": [
    "def load_and_preprocess_image(file_path):\n",
    "    # used to read the contents of a file into a tensor. It takes a file path as input and returns a tensor containing the binary data read from the file.\n",
    "    image = tf.io.read_file(file_path);\n",
    "    # used to decode an image from a binary string, typically read from a file. It automatically detects the image format and decodes it into a tensor that can be used in TensorFlow.\n",
    "    image = tf.image.decode_image(image, channels=1); # 1 channel for grayscale, 3 for rgb\n",
    "\n",
    "    # Preprocess the image (resize, normalize, etc...)\n",
    "    image = preprocess_image(image);\n",
    "\n",
    "    return image;\n",
    "\n",
    "def preprocess_image(image):\n",
    "    # Explicitly set the shape of the input tensor\n",
    "    image.set_shape([None, None, 1])\n",
    "    # Resize\n",
    "    image = tf.image.resize(image, (224, 224));  # Adjust dimensions as needed\n",
    "\n",
    "    # Normalized pixel values to the range [0, 1], common practice in image preprocessing for machine learning\n",
    "    image = image / 255.0;\n",
    "\n",
    "    return image;"
   ]
  },
  {
   "cell_type": "code",
   "execution_count": 38,
   "metadata": {},
   "outputs": [
    {
     "name": "stdout",
     "output_type": "stream",
     "text": [
      "<_MapDataset element_spec=TensorSpec(shape=(224, 224, 1), dtype=tf.float32, name=None)>\n"
     ]
    }
   ],
   "source": [
    "# tensorflow dataset creation\n",
    "X_tensor = tf.data.Dataset.from_tensor_slices(X);\n",
    "# applies the function to each element of the dataset X_tensor.\n",
    "X_tensor = X_tensor.map(load_and_preprocess_image);\n",
    "print(X_tensor)"
   ]
  },
  {
   "cell_type": "code",
   "execution_count": 37,
   "metadata": {},
   "outputs": [
    {
     "name": "stdout",
     "output_type": "stream",
     "text": [
      "tf.Tensor(\n",
      "[[1. 0. 0. ... 0. 0. 0.]\n",
      " [0. 1. 0. ... 0. 0. 0.]\n",
      " [0. 0. 1. ... 0. 0. 0.]\n",
      " ...\n",
      " [0. 0. 0. ... 1. 0. 0.]\n",
      " [0. 0. 0. ... 0. 1. 0.]\n",
      " [0. 0. 0. ... 0. 0. 1.]], shape=(62, 62), dtype=float32)\n"
     ]
    }
   ],
   "source": [
    "# Calculate the number of unique labels\n",
    "num_classes = len(y)\n",
    "\n",
    "# one-hot encoding method of representing categorical variables as binary vectors. In a one-hot encoded vector, all elements are zero except for one, which is marked with a 1. \n",
    "# This is often used to represent classes or categories in a classification problem.\n",
    "y_one_hot = tf.one_hot(indices=tf.range(len(y)), depth=num_classes)\n",
    "print(y_one_hot)"
   ]
  }
 ],
 "metadata": {
  "kernelspec": {
   "display_name": "handwriting-bot",
   "language": "python",
   "name": "python3"
  },
  "language_info": {
   "codemirror_mode": {
    "name": "ipython",
    "version": 3
   },
   "file_extension": ".py",
   "mimetype": "text/x-python",
   "name": "python",
   "nbconvert_exporter": "python",
   "pygments_lexer": "ipython3",
   "version": "3.10.13"
  }
 },
 "nbformat": 4,
 "nbformat_minor": 2
}
